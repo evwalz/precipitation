{
 "cells": [
  {
   "cell_type": "code",
   "execution_count": 1,
   "id": "3d531c29",
   "metadata": {},
   "outputs": [
    {
     "name": "stdout",
     "output_type": "stream",
     "text": [
      "env: KMP_DUPLICATE_LIB_OK=TRUE\n"
     ]
    }
   ],
   "source": [
    "%env KMP_DUPLICATE_LIB_OK=TRUE"
   ]
  },
  {
   "cell_type": "code",
   "execution_count": 2,
   "id": "952d2467",
   "metadata": {},
   "outputs": [
    {
     "name": "stdout",
     "output_type": "stream",
     "text": [
      "TRUE\n"
     ]
    }
   ],
   "source": [
    "!echo $KMP_DUPLICATE_LIB_OK"
   ]
  },
  {
   "cell_type": "code",
   "execution_count": 3,
   "id": "c15a838d",
   "metadata": {},
   "outputs": [
    {
     "name": "stderr",
     "output_type": "stream",
     "text": [
      "/Users/gkoehler/miniconda3/envs/precip/lib/python3.10/site-packages/tqdm/auto.py:22: TqdmWarning: IProgress not found. Please update jupyter and ipywidgets. See https://ipywidgets.readthedocs.io/en/stable/user_install.html\n",
      "  from .autonotebook import tqdm as notebook_tqdm\n"
     ]
    }
   ],
   "source": [
    "import xarray as xr\n",
    "import numpy as np\n",
    "import pandas as pd\n",
    "import torch\n",
    "\n",
    "from precipitation.data.data_module import PrecipitationDataModule\n",
    "\n",
    "import matplotlib.pyplot as plt\n",
    " \n",
    "from matplotlib import cm\n",
    "from matplotlib.colors import ListedColormap, LinearSegmentedColormap\n",
    "import cartopy.crs as ccrs"
   ]
  },
  {
   "cell_type": "code",
   "execution_count": 4,
   "id": "6c6d8cd6",
   "metadata": {},
   "outputs": [],
   "source": [
    "data = PrecipitationDataModule(feature_set='v1+time')"
   ]
  },
  {
   "cell_type": "code",
   "execution_count": 5,
   "id": "b782193b",
   "metadata": {},
   "outputs": [],
   "source": [
    "data.setup('fit')"
   ]
  },
  {
   "cell_type": "code",
   "execution_count": 6,
   "id": "9b851d39",
   "metadata": {},
   "outputs": [
    {
     "data": {
      "text/plain": [
       "torch.Size([3654, 10, 19, 61])"
      ]
     },
     "execution_count": 6,
     "metadata": {},
     "output_type": "execute_result"
    }
   ],
   "source": [
    "data.train_data.shape"
   ]
  },
  {
   "cell_type": "code",
   "execution_count": 7,
   "id": "9c01acb4",
   "metadata": {},
   "outputs": [
    {
     "data": {
      "text/plain": [
       "torch.Size([3654, 19, 61])"
      ]
     },
     "execution_count": 7,
     "metadata": {},
     "output_type": "execute_result"
    }
   ],
   "source": [
    "data.train_target.shape"
   ]
  },
  {
   "cell_type": "code",
   "execution_count": 19,
   "id": "d8406775",
   "metadata": {},
   "outputs": [],
   "source": [
    "log_data = np.log(data.train_target.numpy() + 0.01)"
   ]
  },
  {
   "cell_type": "code",
   "execution_count": 20,
   "id": "2db8567f",
   "metadata": {},
   "outputs": [
    {
     "data": {
      "text/plain": [
       "6.1382422"
      ]
     },
     "execution_count": 20,
     "metadata": {},
     "output_type": "execute_result"
    }
   ],
   "source": [
    "np.max(log_data)"
   ]
  },
  {
   "cell_type": "code",
   "execution_count": 21,
   "id": "2bae04c4",
   "metadata": {},
   "outputs": [
    {
     "data": {
      "text/plain": [
       "-4.6051702"
      ]
     },
     "execution_count": 21,
     "metadata": {},
     "output_type": "execute_result"
    }
   ],
   "source": [
    "np.min(log_data)"
   ]
  },
  {
   "cell_type": "code",
   "execution_count": 22,
   "id": "d1e141d3",
   "metadata": {},
   "outputs": [],
   "source": [
    "inv_transform_data = np.exp(log_data) - 0.01"
   ]
  },
  {
   "cell_type": "code",
   "execution_count": 23,
   "id": "dcdce4cf",
   "metadata": {},
   "outputs": [
    {
     "data": {
      "text/plain": [
       "True"
      ]
     },
     "execution_count": 23,
     "metadata": {},
     "output_type": "execute_result"
    }
   ],
   "source": [
    "np.allclose(data.train_target.numpy(), inv_transform_data)"
   ]
  },
  {
   "cell_type": "code",
   "execution_count": 24,
   "id": "049cf3f6",
   "metadata": {},
   "outputs": [
    {
     "data": {
      "text/plain": [
       "(array([2.957228e+06, 2.389730e+05, 1.497630e+05, 1.109100e+05,\n",
       "        8.803200e+04, 7.299000e+04, 6.261500e+04, 5.367000e+04,\n",
       "        4.640800e+04, 4.110700e+04, 3.635700e+04, 3.276500e+04,\n",
       "        2.909600e+04, 2.593600e+04, 2.331500e+04, 2.101400e+04,\n",
       "        1.888300e+04, 1.753800e+04, 1.577400e+04, 1.433600e+04,\n",
       "        1.286100e+04, 1.187200e+04, 1.094200e+04, 1.013300e+04,\n",
       "        9.223000e+03, 8.324000e+03, 7.814000e+03, 6.943000e+03,\n",
       "        6.340000e+03, 5.887000e+03, 5.526000e+03, 5.130000e+03,\n",
       "        4.776000e+03, 4.384000e+03, 4.129000e+03, 3.664000e+03,\n",
       "        3.641000e+03, 3.337000e+03, 3.016000e+03, 2.714000e+03,\n",
       "        2.518000e+03, 2.480000e+03, 2.262000e+03, 2.232000e+03,\n",
       "        2.054000e+03, 1.871000e+03, 1.726000e+03, 1.622000e+03,\n",
       "        1.523000e+03, 1.444000e+03, 1.304000e+03, 1.258000e+03,\n",
       "        1.205000e+03, 1.110000e+03, 9.680000e+02, 1.006000e+03,\n",
       "        8.650000e+02, 8.930000e+02, 8.240000e+02, 7.880000e+02,\n",
       "        7.280000e+02, 7.120000e+02, 6.260000e+02, 6.400000e+02,\n",
       "        5.950000e+02, 6.090000e+02, 5.130000e+02, 5.100000e+02,\n",
       "        4.990000e+02, 4.750000e+02, 4.660000e+02, 3.990000e+02,\n",
       "        4.010000e+02, 3.870000e+02, 3.610000e+02, 3.390000e+02,\n",
       "        3.350000e+02, 3.600000e+02, 3.300000e+02, 3.070000e+02,\n",
       "        2.770000e+02, 2.930000e+02, 2.890000e+02, 2.450000e+02,\n",
       "        2.250000e+02, 2.600000e+02, 2.110000e+02, 2.020000e+02,\n",
       "        2.130000e+02, 1.890000e+02, 1.610000e+02, 1.680000e+02,\n",
       "        2.070000e+02, 1.540000e+02, 1.800000e+02, 1.630000e+02,\n",
       "        1.460000e+02, 1.480000e+02, 1.480000e+02, 1.360000e+02]),\n",
       " array([  0.,   1.,   2.,   3.,   4.,   5.,   6.,   7.,   8.,   9.,  10.,\n",
       "         11.,  12.,  13.,  14.,  15.,  16.,  17.,  18.,  19.,  20.,  21.,\n",
       "         22.,  23.,  24.,  25.,  26.,  27.,  28.,  29.,  30.,  31.,  32.,\n",
       "         33.,  34.,  35.,  36.,  37.,  38.,  39.,  40.,  41.,  42.,  43.,\n",
       "         44.,  45.,  46.,  47.,  48.,  49.,  50.,  51.,  52.,  53.,  54.,\n",
       "         55.,  56.,  57.,  58.,  59.,  60.,  61.,  62.,  63.,  64.,  65.,\n",
       "         66.,  67.,  68.,  69.,  70.,  71.,  72.,  73.,  74.,  75.,  76.,\n",
       "         77.,  78.,  79.,  80.,  81.,  82.,  83.,  84.,  85.,  86.,  87.,\n",
       "         88.,  89.,  90.,  91.,  92.,  93.,  94.,  95.,  96.,  97.,  98.,\n",
       "         99., 100.], dtype=float32),\n",
       " <BarContainer object of 100 artists>)"
      ]
     },
     "execution_count": 24,
     "metadata": {},
     "output_type": "execute_result"
    },
    {
     "data": {
      "image/png": "[encoded data removed]",
      "text/plain": [
       "<Figure size 432x288 with 1 Axes>"
      ]
     },
     "metadata": {
      "needs_background": "light"
     },
     "output_type": "display_data"
    }
   ],
   "source": [
    "plt.hist(x=data.train_target.flatten().numpy(), range=[0, 100], bins=100)"
   ]
  },
  {
   "cell_type": "code",
   "execution_count": 25,
   "id": "033ada4d",
   "metadata": {},
   "outputs": [
    {
     "data": {
      "text/plain": [
       "(array([1.374214e+06, 1.142370e+05, 7.777300e+04, 6.139300e+04,\n",
       "        5.191800e+04, 4.628200e+04, 4.221400e+04, 3.937700e+04,\n",
       "        3.744800e+04, 3.572200e+04, 3.454400e+04, 3.371400e+04,\n",
       "        3.297500e+04, 3.260300e+04, 3.158300e+04, 3.136000e+04,\n",
       "        3.129100e+04, 3.121400e+04, 3.134100e+04, 3.107800e+04,\n",
       "        3.103100e+04, 3.108400e+04, 3.123800e+04, 3.118800e+04,\n",
       "        3.151900e+04, 3.140800e+04, 3.195600e+04, 3.211800e+04,\n",
       "        3.217000e+04, 3.212100e+04, 3.238000e+04, 3.278500e+04,\n",
       "        3.286600e+04, 3.304200e+04, 3.332100e+04, 3.348200e+04,\n",
       "        3.391400e+04, 3.425200e+04, 3.416500e+04, 3.495700e+04,\n",
       "        3.502900e+04, 3.501800e+04, 3.543700e+04, 3.618000e+04,\n",
       "        3.620400e+04, 3.689200e+04, 3.762000e+04, 3.789800e+04,\n",
       "        3.827500e+04, 3.910900e+04, 3.947500e+04, 4.010300e+04,\n",
       "        4.046600e+04, 4.110700e+04, 4.162500e+04, 4.181400e+04,\n",
       "        4.244900e+04, 4.266600e+04, 4.309900e+04, 4.355000e+04,\n",
       "        4.361600e+04, 4.319200e+04, 4.271400e+04, 4.210500e+04,\n",
       "        4.127400e+04, 4.052400e+04, 3.881200e+04, 3.686800e+04,\n",
       "        3.458600e+04, 3.279700e+04, 2.994100e+04, 2.718900e+04,\n",
       "        2.483100e+04, 2.140900e+04, 1.838400e+04, 1.600400e+04,\n",
       "        1.350700e+04, 1.087600e+04, 9.003000e+03, 7.068000e+03,\n",
       "        5.435000e+03, 4.303000e+03, 3.333000e+03, 2.713000e+03,\n",
       "        1.959000e+03, 1.542000e+03, 1.087000e+03, 8.090000e+02,\n",
       "        6.000000e+02, 4.260000e+02, 3.140000e+02, 1.790000e+02,\n",
       "        1.210000e+02, 8.400000e+01, 5.100000e+01, 2.400000e+01,\n",
       "        6.000000e+00, 3.000000e+00, 2.000000e+00, 1.000000e+00]),\n",
       " array([-4.6051702 , -4.497736  , -4.390302  , -4.282868  , -4.1754336 ,\n",
       "        -4.068     , -3.9605656 , -3.8531313 , -3.7456973 , -3.6382632 ,\n",
       "        -3.530829  , -3.423395  , -3.3159606 , -3.2085266 , -3.1010926 ,\n",
       "        -2.9936583 , -2.8862243 , -2.7787902 , -2.671356  , -2.563922  ,\n",
       "        -2.4564877 , -2.3490536 , -2.2416196 , -2.1341853 , -2.0267513 ,\n",
       "        -1.9193171 , -1.811883  , -1.7044488 , -1.5970148 , -1.4895806 ,\n",
       "        -1.3821465 , -1.2747123 , -1.1672783 , -1.0598441 , -0.95241   ,\n",
       "        -0.8449759 , -0.73754174, -0.63010764, -0.5226735 , -0.41523936,\n",
       "        -0.30780524, -0.20037113, -0.092937  ,  0.01449712,  0.12193125,\n",
       "         0.22936538,  0.3367995 ,  0.44423363,  0.55166775,  0.65910184,\n",
       "         0.766536  ,  0.87397015,  0.98140424,  1.0888383 ,  1.1962725 ,\n",
       "         1.3037066 ,  1.4111408 ,  1.5185748 ,  1.626009  ,  1.7334431 ,\n",
       "         1.8408773 ,  1.9483113 ,  2.0557456 ,  2.1631796 ,  2.2706137 ,\n",
       "         2.378048  ,  2.485482  ,  2.592916  ,  2.7003503 ,  2.8077843 ,\n",
       "         2.9152186 ,  3.0226526 ,  3.1300867 ,  3.237521  ,  3.344955  ,\n",
       "         3.4523892 ,  3.5598233 ,  3.6672573 ,  3.7746916 ,  3.8821256 ,\n",
       "         3.9895597 ,  4.096994  ,  4.204428  ,  4.311862  ,  4.4192963 ,\n",
       "         4.5267305 ,  4.6341643 ,  4.7415986 ,  4.849033  ,  4.9564667 ,\n",
       "         5.063901  ,  5.171335  ,  5.278769  ,  5.3862033 ,  5.4936376 ,\n",
       "         5.601072  ,  5.7085056 ,  5.81594   ,  5.923374  ,  6.030808  ,\n",
       "         6.1382422 ], dtype=float32),\n",
       " <BarContainer object of 100 artists>)"
      ]
     },
     "execution_count": 25,
     "metadata": {},
     "output_type": "execute_result"
    },
    {
     "data": {
      "image/png": "[encoded data removed]",
      "text/plain": [
       "<Figure size 432x288 with 1 Axes>"
      ]
     },
     "metadata": {
      "needs_background": "light"
     },
     "output_type": "display_data"
    }
   ],
   "source": [
    "plt.hist(x=np.log(data.train_target.flatten().numpy() + 0.01), bins=100)"
   ]
  }
 ],
 "metadata": {
  "kernelspec": {
   "display_name": "Python 3.10.4 ('precip')",
   "language": "python",
   "name": "python3"
  },
  "language_info": {
   "codemirror_mode": {
    "name": "ipython",
    "version": 3
   },
   "file_extension": ".py",
   "mimetype": "text/x-python",
   "name": "python",
   "nbconvert_exporter": "python",
   "pygments_lexer": "ipython3",
   "version": "3.10.4"
  },
  "vscode": {
   "interpreter": {
    "hash": "e603cde164ca240fc73f4f44aa1db98c2d330129868fd4dd485b21ac6facb7e8"
   }
  }
 },
 "nbformat": 4,
 "nbformat_minor": 5
}
