{
 "cells": [
  {
   "cell_type": "code",
   "execution_count": 7,
   "id": "c15a838d",
   "metadata": {},
   "outputs": [],
   "source": [
    "import pandas as pd\n",
    "import tensorboard as tb\n",
    "\n",
    "import matplotlib.pyplot as plt"
   ]
  },
  {
   "cell_type": "code",
   "execution_count": 8,
   "id": "3eddda5b",
   "metadata": {},
   "outputs": [],
   "source": [
    "# experiment_id = 'iZaLOWtzQs2aJmunuYY89Q' -> outdated\n",
    "experiment_id = 'H0oBmrsyTmuMluzcQCnUAw'\n",
    "\n",
    "experiment = tb.data.experimental.ExperimentFromDev(experiment_id)\n",
    "df = experiment.get_scalars()"
   ]
  },
  {
   "cell_type": "code",
   "execution_count": 9,
   "id": "f1e51f16",
   "metadata": {},
   "outputs": [],
   "source": [
    "df['experiment'] = df['run'].str.split('/').str[0]"
   ]
  },
  {
   "cell_type": "code",
   "execution_count": 10,
   "id": "cecbd460",
   "metadata": {},
   "outputs": [],
   "source": [
    "crps_df = df[(df['tag'] == 'val_metrics/masked_crps') & (df['value'] != 0.0)]\n",
    "\n",
    "mean_crps_vals = crps_df.groupby('experiment').mean()\n",
    "mean_crps_vals['mean_crps'] = mean_crps_vals['value']\n",
    "mean_crps_vals['std_crps'] = crps_df.groupby('experiment').std()['value']"
   ]
  },
  {
   "cell_type": "code",
   "execution_count": 11,
   "id": "5a8f303e",
   "metadata": {},
   "outputs": [
    {
     "data": {
      "text/html": [
       "<div>\n",
       "<style scoped>\n",
       "    .dataframe tbody tr th:only-of-type {\n",
       "        vertical-align: middle;\n",
       "    }\n",
       "\n",
       "    .dataframe tbody tr th {\n",
       "        vertical-align: top;\n",
       "    }\n",
       "\n",
       "    .dataframe thead th {\n",
       "        text-align: right;\n",
       "    }\n",
       "</style>\n",
       "<table border=\"1\" class=\"dataframe\">\n",
       "  <thead>\n",
       "    <tr style=\"text-align: right;\">\n",
       "      <th></th>\n",
       "      <th>mean_crps</th>\n",
       "      <th>std_crps</th>\n",
       "    </tr>\n",
       "    <tr>\n",
       "      <th>experiment</th>\n",
       "      <th></th>\n",
       "      <th></th>\n",
       "    </tr>\n",
       "  </thead>\n",
       "  <tbody>\n",
       "    <tr>\n",
       "      <th>UNet-64-0.2_featureset7</th>\n",
       "      <td>1.534080</td>\n",
       "      <td>0.054153</td>\n",
       "    </tr>\n",
       "    <tr>\n",
       "      <th>UNet-64-0.2_featureset7_nocorr+time</th>\n",
       "      <td>1.535171</td>\n",
       "      <td>0.052144</td>\n",
       "    </tr>\n",
       "    <tr>\n",
       "      <th>UNet-128-0.3</th>\n",
       "      <td>1.535256</td>\n",
       "      <td>0.051103</td>\n",
       "    </tr>\n",
       "    <tr>\n",
       "      <th>UNet-64-0.2_featureset7_notime</th>\n",
       "      <td>1.538535</td>\n",
       "      <td>0.050630</td>\n",
       "    </tr>\n",
       "    <tr>\n",
       "      <th>UNet-64-0.2_nocorr+time</th>\n",
       "      <td>1.540527</td>\n",
       "      <td>0.051508</td>\n",
       "    </tr>\n",
       "    <tr>\n",
       "      <th>UNet-64-0.2_notime</th>\n",
       "      <td>1.541410</td>\n",
       "      <td>0.052499</td>\n",
       "    </tr>\n",
       "    <tr>\n",
       "      <th>UNet-64-0.2_featureset2</th>\n",
       "      <td>1.543516</td>\n",
       "      <td>0.050142</td>\n",
       "    </tr>\n",
       "    <tr>\n",
       "      <th>UNet-64-0.2</th>\n",
       "      <td>1.543777</td>\n",
       "      <td>0.049884</td>\n",
       "    </tr>\n",
       "  </tbody>\n",
       "</table>\n",
       "</div>"
      ],
      "text/plain": [
       "                                     mean_crps  std_crps\n",
       "experiment                                              \n",
       "UNet-64-0.2_featureset7               1.534080  0.054153\n",
       "UNet-64-0.2_featureset7_nocorr+time   1.535171  0.052144\n",
       "UNet-128-0.3                          1.535256  0.051103\n",
       "UNet-64-0.2_featureset7_notime        1.538535  0.050630\n",
       "UNet-64-0.2_nocorr+time               1.540527  0.051508\n",
       "UNet-64-0.2_notime                    1.541410  0.052499\n",
       "UNet-64-0.2_featureset2               1.543516  0.050142\n",
       "UNet-64-0.2                           1.543777  0.049884"
      ]
     },
     "execution_count": 11,
     "metadata": {},
     "output_type": "execute_result"
    }
   ],
   "source": [
    "mean_crps_vals = mean_crps_vals.drop(['step', 'value'], axis=1)\n",
    "mean_crps_vals.sort_values(by='mean_crps', ascending=True)"
   ]
  },
  {
   "cell_type": "code",
   "execution_count": null,
   "id": "31eaab10",
   "metadata": {},
   "outputs": [],
   "source": []
  }
 ],
 "metadata": {
  "kernelspec": {
   "display_name": "Python 3.10.4 ('precip')",
   "language": "python",
   "name": "python3"
  },
  "language_info": {
   "codemirror_mode": {
    "name": "ipython",
    "version": 3
   },
   "file_extension": ".py",
   "mimetype": "text/x-python",
   "name": "python",
   "nbconvert_exporter": "python",
   "pygments_lexer": "ipython3",
   "version": "3.10.4"
  },
  "vscode": {
   "interpreter": {
    "hash": "e603cde164ca240fc73f4f44aa1db98c2d330129868fd4dd485b21ac6facb7e8"
   }
  }
 },
 "nbformat": 4,
 "nbformat_minor": 5
}
